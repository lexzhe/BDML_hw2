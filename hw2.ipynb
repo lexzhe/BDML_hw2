{
 "cells": [
  {
   "cell_type": "code",
   "execution_count": 1,
   "metadata": {},
   "outputs": [],
   "source": [
    "import pandas as pd\n",
    "from os import listdir"
   ]
  },
  {
   "cell_type": "code",
   "execution_count": 6,
   "metadata": {},
   "outputs": [],
   "source": [
    "localdir = '/home/lexzhe/BigDataMl/hw2'"
   ]
  },
  {
   "cell_type": "code",
   "execution_count": 2,
   "metadata": {},
   "outputs": [],
   "source": [
    "\n",
    "datafiles = listdir(localdir + '/Archive')\n",
    "books = []\n",
    "ratings = []\n",
    "for filename in datafiles:\n",
    "    df = pd.read_csv(localdir + '/Archive/' + filename)\n",
    "    df.columns = df.columns.str.lower()\n",
    "    if filename.startswith('book'):\n",
    "        books.append(df)\n",
    "    else:\n",
    "        ratings.append(df)\n",
    "booksdf = pd.concat(books)\n",
    "ratings = pd.concat(ratings)"
   ]
  },
  {
   "cell_type": "code",
   "execution_count": 15,
   "metadata": {},
   "outputs": [],
   "source": [
    "booksdf.to_parquet('books1.parquet')\n",
    "booksdf.to_csv('books1.csv')\n",
    "ratings.to_parquet('ratings.parquet')"
   ]
  },
  {
   "cell_type": "code",
   "execution_count": 4,
   "metadata": {},
   "outputs": [],
   "source": [
    "import subprocess\n",
    "\n",
    "\n",
    "def run_linux_cmd(args_list):\n",
    "        print('Running system command: {0}'.format(' '.join(args_list)))\n",
    "        proc = subprocess.Popen(args_list, stdout=subprocess.PIPE, stderr=subprocess.PIPE)\n",
    "        s_output, s_err = proc.communicate()\n",
    "        s_return =  proc.returncode\n",
    "        return s_return, s_output, s_err"
   ]
  },
  {
   "cell_type": "code",
   "execution_count": 16,
   "metadata": {},
   "outputs": [
    {
     "name": "stdout",
     "output_type": "stream",
     "text": [
      "Running system command: hdfs dfs -put books1.parquet /data/\n",
      "0\n"
     ]
    }
   ],
   "source": [
    "(ret, out, err)= run_linux_cmd(['hdfs', 'dfs', '-put', 'books1.parquet', '/data/'])\n",
    "print(ret)"
   ]
  },
  {
   "cell_type": "code",
   "execution_count": 17,
   "metadata": {},
   "outputs": [
    {
     "name": "stdout",
     "output_type": "stream",
     "text": [
      "Running system command: hdfs dfs -put books1.csv /data/\n",
      "0\n"
     ]
    }
   ],
   "source": [
    "(ret, out, err)= run_linux_cmd(['hdfs', 'dfs', '-put', 'books1.csv', '/data/'])\n",
    "print(ret)"
   ]
  },
  {
   "cell_type": "code",
   "execution_count": 9,
   "metadata": {},
   "outputs": [
    {
     "name": "stdout",
     "output_type": "stream",
     "text": [
      "Running system command: hdfs dfs -put ratings.parquet /data/\n",
      "0\n"
     ]
    }
   ],
   "source": [
    "(ret, out, err)= run_linux_cmd(['hdfs', 'dfs', '-put', 'ratings.parquet', '/data/'])\n",
    "print(ret)"
   ]
  },
  {
   "cell_type": "code",
   "execution_count": 1,
   "metadata": {},
   "outputs": [],
   "source": [
    "from pyspark.sql import SparkSession\n",
    "spark = SparkSession.builder.master('spark://MSI.localdomain:7077').getOrCreate()"
   ]
  },
  {
   "cell_type": "code",
   "execution_count": 2,
   "metadata": {},
   "outputs": [],
   "source": [
    "spark.catalog.clearCache()"
   ]
  },
  {
   "cell_type": "code",
   "execution_count": 3,
   "metadata": {},
   "outputs": [
    {
     "name": "stdout",
     "output_type": "stream",
     "text": [
      "CPU times: user 2.35 ms, sys: 2.23 ms, total: 4.58 ms\n",
      "Wall time: 7.54 s\n"
     ]
    }
   ],
   "source": [
    "%%time\n",
    "csvBooks=spark.read.csv('hdfs://localhost:9000/data/books1.csv')\n"
   ]
  },
  {
   "cell_type": "code",
   "execution_count": 4,
   "metadata": {},
   "outputs": [
    {
     "name": "stdout",
     "output_type": "stream",
     "text": [
      "CPU times: user 3.74 ms, sys: 0 ns, total: 3.74 ms\n",
      "Wall time: 1.05 s\n"
     ]
    }
   ],
   "source": [
    "%%time\n",
    "books=spark.read.parquet(\"hdfs://localhost:9000/data/books1.parquet\")"
   ]
  },
  {
   "cell_type": "code",
   "execution_count": 7,
   "metadata": {},
   "outputs": [
    {
     "name": "stdout",
     "output_type": "stream",
     "text": [
      "Parquet File Size in Bytes is  717234434\n",
      "Csv File Size in Bytes is     1178082266\n"
     ]
    }
   ],
   "source": [
    "import os\n",
    "\n",
    "parquet_stats = os.stat(localdir + '/books1.parquet')\n",
    "csv_stats = os.stat(localdir + '/books1.csv')\n",
    "print(f'Parquet File Size in Bytes is  {parquet_stats.st_size}')\n",
    "print(f'Csv File Size in Bytes is     {csv_stats.st_size}')"
   ]
  },
  {
   "attachments": {},
   "cell_type": "markdown",
   "metadata": {},
   "source": [
    "Как видно выше, csv файл загружается гораздо медленнее и занимает больше объема."
   ]
  },
  {
   "cell_type": "code",
   "execution_count": 8,
   "metadata": {},
   "outputs": [
    {
     "name": "stdout",
     "output_type": "stream",
     "text": [
      "+----+------+--------------------+-----------------+\n",
      "|  id|  name|              rating|__index_level_0__|\n",
      "+----+------+--------------------+-----------------+\n",
      "|2098|Rating|This user doesn't...|                0|\n",
      "|2099|Rating|This user doesn't...|                1|\n",
      "|2103|Rating|This user doesn't...|                2|\n",
      "|2105|Rating|This user doesn't...|                3|\n",
      "|2106|Rating|This user doesn't...|                4|\n",
      "|2108|Rating|This user doesn't...|                5|\n",
      "|2109|Rating|This user doesn't...|                6|\n",
      "|2110|Rating|This user doesn't...|                7|\n",
      "|2113|Rating|This user doesn't...|                8|\n",
      "|2116|Rating|This user doesn't...|                9|\n",
      "|2117|Rating|This user doesn't...|               10|\n",
      "|2118|Rating|This user doesn't...|               11|\n",
      "|2119|Rating|This user doesn't...|               12|\n",
      "|2121|Rating|This user doesn't...|               13|\n",
      "|2122|Rating|This user doesn't...|               14|\n",
      "|2123|Rating|This user doesn't...|               15|\n",
      "|2124|Rating|This user doesn't...|               16|\n",
      "|2130|Rating|This user doesn't...|               17|\n",
      "|2132|Rating|This user doesn't...|               18|\n",
      "|2133|Rating|This user doesn't...|               19|\n",
      "+----+------+--------------------+-----------------+\n",
      "only showing top 20 rows\n",
      "\n",
      "CPU times: user 5.35 ms, sys: 0 ns, total: 5.35 ms\n",
      "Wall time: 4.69 s\n"
     ]
    }
   ],
   "source": [
    "%%time\n",
    "ratings=spark.read.parquet(\"hdfs://localhost:9000/data/ratings.parquet\")\n",
    "ratings.show()"
   ]
  },
  {
   "cell_type": "code",
   "execution_count": 9,
   "metadata": {},
   "outputs": [
    {
     "name": "stdout",
     "output_type": "stream",
     "text": [
      "+---+--------------------+-----------+-----------+-----------+---------------+------------+----------+--------------------+--------------+-----------+--------+--------------------+------------------+-----------+-----------+----------+-----------+-----------+---------------------+-----------------+\n",
      "| id|                name|ratingdist1|pagesnumber|ratingdist4|ratingdisttotal|publishmonth|publishday|           publisher|countsofreview|publishyear|language|             authors|            rating|ratingdist2|ratingdist5|      isbn|ratingdist3|description|count of text reviews|__index_level_0__|\n",
      "+---+--------------------+-----------+-----------+-----------+---------------+------------+----------+--------------------+--------------+-----------+--------+--------------------+------------------+-----------+-----------+----------+-----------+-----------+---------------------+-----------------+\n",
      "|  1|Harry Potter and ...|     1:9896|        652|   4:556485|  total:2298124|          16|         9|     Scholastic Inc.|         28062|       2006|     eng|        J.K. Rowling|              4.57|    2:25317|  5:1546466|      null|   3:159960|       null|                 null|                0|\n",
      "|  2|Harry Potter and ...|    1:12455|        870|   4:604283|  total:2358637|           1|         9|     Scholastic Inc.|         29770|       2004|     eng|        J.K. Rowling|               4.5|    2:37005|  5:1493113|0439358078|   3:211781|       null|                 null|                1|\n",
      "|  3|Harry Potter and ...|   1:108202|        309|  4:1513191|  total:6587388|           1|        11|      Scholastic Inc|         75911|       2003|     eng|        J.K. Rowling|              4.47|   2:130310|  5:4268227|      null|   3:567458|       null|                 null|                2|\n",
      "|  4|Harry Potter and ...|    1:11896|        352|   4:706082|  total:2560657|           1|        11|          Scholastic|           244|       2003|     eng|        J.K. Rowling|              4.42|    2:49353|  5:1504505|0439554896|   3:288821|       null|                 null|                3|\n",
      "|  5|Harry Potter and ...|    1:10128|        435|   4:630534|  total:2610317|           1|         5|     Scholastic Inc.|         37093|       2004|     eng|        J.K. Rowling|              4.57|    2:24849|  5:1749958|043965548X|   3:194848|       null|                 null|                4|\n",
      "|  6|Harry Potter and ...|     1:9419|        734|   4:606800|  total:2431085|          28|         9|          Scholastic|         31978|       2002|     eng|        J.K. Rowling|4.5600000000000005|    2:24282|  5:1612165|      null|   3:178419|       null|                 null|                5|\n",
      "|  8|Harry Potter Boxe...|      1:402|       2690|     4:4650|    total:43968|          13|         9|          Scholastic|           166|       2004|     eng|        J.K. Rowling|              4.78|      2:283|    5:37432|0439682584|     3:1201|       null|                 null|                6|\n",
      "|  9|Unauthorized Harr...|        1:0|        152|        4:7|       total:28|          26|         4|        Nimble Books|             1|       2005|   en-US|W. Frederick Zimm...|              3.79|        2:5|       5:10|0976540606|        3:6|       null|                 null|                7|\n",
      "| 10|Harry Potter Coll...|      1:257|       3342|     4:4358|    total:30313|          12|         9|          Scholastic|           809|       2005|     eng|        J.K. Rowling|              4.73|      2:218|    5:24406|0439827604|     3:1074|       null|                 null|                8|\n",
      "| 12|The Ultimate Hitc...|     1:3443|        815|    4:75683|   total:274268|           1|        11|      Gramercy Books|           255|       2005|     eng|       Douglas Adams|              4.37|     2:7613|   5:157499|0517226952|    3:30030|       null|                 null|                9|\n",
      "| 13|The Ultimate Hitc...|     1:3443|        815|    4:75683|   total:274268|          30|         4|       Del Rey Books|          4119|       2002|     eng|       Douglas Adams|              4.37|     2:7613|   5:157499|0345453743|    3:30030|       null|                 null|               10|\n",
      "| 14|The Hitchhiker's ...|    1:28636|        215|   4:396332|  total:1350083|           3|         8|               Crown|           470|       2004|     eng|       Douglas Adams|              4.22|    2:54163|   5:682711|1400052920|   3:188241|       null|                 null|               11|\n",
      "| 18|The Ultimate Hitc...|     1:3443|        815|    4:75683|   total:274268|          17|         1|         Wings Books|           194|       1996|     eng|       Douglas Adams|              4.37|     2:7613|   5:157499|0517149257|    3:30030|       null|                 null|               12|\n",
      "| 21|A Short History o...|     1:5140|        544|    4:94040|   total:276166|          14|         9|      Broadway Books|          9545|       2004|     eng|         Bill Bryson|              4.21|     2:9367|   5:129555|076790818X|    3:38064|       null|                 null|               13|\n",
      "| 22|Bill Bryson's Afr...|      1:249|         55|     4:2409|     total:8393|           3|        12|      Broadway Books|           503|       2002|     eng|         Bill Bryson|              3.45|      2:985|     5:1408|0767915062|     3:3342|       null|                 null|               14|\n",
      "| 23|Bryson's Dictiona...|       1:36|        256|     4:1069|     total:2656|          14|         9|      Broadway Books|           131|       2004|     eng|         Bill Bryson|              3.88|      2:128|      5:729|0767910435|      3:694|       null|                 null|               15|\n",
      "| 24|In a Sunburned Co...|      1:987|        335|    4:34941|    total:85287|          15|         5|      Broadway Books|          4298|       2001|     eng|         Bill Bryson|              4.07|     2:2900|    5:30483|0767903862|    3:15976|       null|                 null|               16|\n",
      "| 25|I'm a Stranger He...|      1:741|        304|    4:22652|    total:56082|          28|         6|      Broadway Books|          2224|       2000|     eng|         Bill Bryson|               3.9|     2:2709|    5:15891|076790382X|    3:14089|       null|                 null|               17|\n",
      "| 26|The Lost Continen...|     1:1373|        299|    4:18427|    total:49012|          28|         8|William Morrow Pa...|          2276|       1990|     eng|         Bill Bryson|              3.83|     2:3219|    5:14013|0060920084|    3:11980|       null|                 null|               18|\n",
      "| 27|Neither Here nor ...|     1:1172|        254|    4:20655|    total:54388|          28|         3|William Morrow Pa...|          2264|       1993|     eng|         Bill Bryson|              3.86|     2:3305|    5:15888|0380713802|    3:13368|       null|                 null|               19|\n",
      "+---+--------------------+-----------+-----------+-----------+---------------+------------+----------+--------------------+--------------+-----------+--------+--------------------+------------------+-----------+-----------+----------+-----------+-----------+---------------------+-----------------+\n",
      "only showing top 20 rows\n",
      "\n"
     ]
    }
   ],
   "source": [
    "books.show()"
   ]
  },
  {
   "cell_type": "code",
   "execution_count": 15,
   "metadata": {},
   "outputs": [],
   "source": [
    "from pyspark.sql import functions as F"
   ]
  },
  {
   "cell_type": "code",
   "execution_count": 18,
   "metadata": {},
   "outputs": [
    {
     "data": {
      "text/plain": [
       "pyspark.sql.dataframe.DataFrame"
      ]
     },
     "execution_count": 18,
     "metadata": {},
     "output_type": "execute_result"
    }
   ],
   "source": [
    "type(ratings)"
   ]
  },
  {
   "cell_type": "code",
   "execution_count": 22,
   "metadata": {},
   "outputs": [],
   "source": []
  },
  {
   "cell_type": "code",
   "execution_count": 25,
   "metadata": {},
   "outputs": [
    {
     "data": {
      "text/plain": [
       "array(['did not like it', 'really liked it', 'liked it', 'it was ok',\n",
       "       'it was amazing', \"This user doesn't have any rating\"],\n",
       "      dtype=object)"
      ]
     },
     "execution_count": 25,
     "metadata": {},
     "output_type": "execute_result"
    }
   ],
   "source": [
    "types.rating.to_numpy()"
   ]
  },
  {
   "cell_type": "code",
   "execution_count": 29,
   "metadata": {},
   "outputs": [
    {
     "name": "stdout",
     "output_type": "stream",
     "text": [
      "+----+---------------+---------------+-----------------+\n",
      "|  id|           name|         rating|__index_level_0__|\n",
      "+----+---------------+---------------+-----------------+\n",
      "|2101|Of Mice and Men|       liked it|              580|\n",
      "|2154|Of Mice and Men|       liked it|              581|\n",
      "|2158|Of Mice and Men|       liked it|              582|\n",
      "|2186|Of Mice and Men|really liked it|              583|\n",
      "|2195|Of Mice and Men|       liked it|              584|\n",
      "|2229|Of Mice and Men| it was amazing|              585|\n",
      "|2259|Of Mice and Men|really liked it|              586|\n",
      "|2282|Of Mice and Men| it was amazing|              587|\n",
      "|2383|Of Mice and Men|really liked it|              588|\n",
      "|2429|Of Mice and Men|       liked it|              589|\n",
      "|2452|Of Mice and Men|       liked it|              590|\n",
      "|2613|Of Mice and Men|really liked it|              591|\n",
      "|2635|Of Mice and Men|really liked it|              592|\n",
      "|2636|Of Mice and Men|       liked it|              593|\n",
      "|2644|Of Mice and Men| it was amazing|              594|\n",
      "|2670|Of Mice and Men|      it was ok|              595|\n",
      "|2682|Of Mice and Men| it was amazing|              596|\n",
      "|2685|Of Mice and Men|       liked it|              597|\n",
      "|2696|Of Mice and Men|really liked it|              598|\n",
      "|2818|Of Mice and Men|      it was ok|              599|\n",
      "+----+---------------+---------------+-----------------+\n",
      "only showing top 20 rows\n",
      "\n"
     ]
    }
   ],
   "source": [
    "relevantratings = ratings.filter(ratings.rating !=\"This user doesn't have any rating\")\n",
    "relevantratings.show()"
   ]
  },
  {
   "cell_type": "code",
   "execution_count": 38,
   "metadata": {},
   "outputs": [],
   "source": [
    "types = relevantratings.select(\"rating\").distinct().toPandas().rating.to_numpy().tolist()\n",
    "numericalrating = [0, 4, 3, 2, 5]\n",
    "mapper = dict(zip(types, numericalrating))"
   ]
  },
  {
   "cell_type": "code",
   "execution_count": 41,
   "metadata": {},
   "outputs": [
    {
     "name": "stdout",
     "output_type": "stream",
     "text": [
      "+---------------+----------+----+\n",
      "|           name|num_rating|  id|\n",
      "+---------------+----------+----+\n",
      "|Of Mice and Men|         3|2101|\n",
      "|Of Mice and Men|         3|2154|\n",
      "|Of Mice and Men|         3|2158|\n",
      "|Of Mice and Men|         4|2186|\n",
      "|Of Mice and Men|         3|2195|\n",
      "|Of Mice and Men|         5|2229|\n",
      "|Of Mice and Men|         4|2259|\n",
      "|Of Mice and Men|         5|2282|\n",
      "|Of Mice and Men|         4|2383|\n",
      "|Of Mice and Men|         3|2429|\n",
      "|Of Mice and Men|         3|2452|\n",
      "|Of Mice and Men|         4|2613|\n",
      "|Of Mice and Men|         4|2635|\n",
      "|Of Mice and Men|         3|2636|\n",
      "|Of Mice and Men|         5|2644|\n",
      "|Of Mice and Men|         2|2670|\n",
      "|Of Mice and Men|         5|2682|\n",
      "|Of Mice and Men|         3|2685|\n",
      "|Of Mice and Men|         4|2696|\n",
      "|Of Mice and Men|         2|2818|\n",
      "+---------------+----------+----+\n",
      "only showing top 20 rows\n",
      "\n"
     ]
    }
   ],
   "source": [
    "from pyspark.sql.types import IntegerType\n",
    "\n",
    "def translate(mapping):\n",
    "    def translate_(col):\n",
    "        return mapping.get(col)\n",
    "    return F.udf(translate_, IntegerType())\n",
    "\n",
    "numratings = relevantratings.withColumn('num_rating', translate(mapper)(\"rating\")).select('name', 'num_rating', 'id')\n",
    "numratings.show()"
   ]
  },
  {
   "cell_type": "code",
   "execution_count": 42,
   "metadata": {},
   "outputs": [
    {
     "name": "stdout",
     "output_type": "stream",
     "text": [
      "+---+--------------------+-----------+-----------+-----------+---------------+------------+----------+--------------------+--------------+-----------+--------+--------------------+------------------+-----------+-----------+----------+-----------+-----------+---------------------+-----------------+\n",
      "| id|                name|ratingdist1|pagesnumber|ratingdist4|ratingdisttotal|publishmonth|publishday|           publisher|countsofreview|publishyear|language|             authors|            rating|ratingdist2|ratingdist5|      isbn|ratingdist3|description|count of text reviews|__index_level_0__|\n",
      "+---+--------------------+-----------+-----------+-----------+---------------+------------+----------+--------------------+--------------+-----------+--------+--------------------+------------------+-----------+-----------+----------+-----------+-----------+---------------------+-----------------+\n",
      "|  1|Harry Potter and ...|     1:9896|        652|   4:556485|  total:2298124|          16|         9|     Scholastic Inc.|         28062|       2006|     eng|        J.K. Rowling|              4.57|    2:25317|  5:1546466|      null|   3:159960|       null|                 null|                0|\n",
      "|  2|Harry Potter and ...|    1:12455|        870|   4:604283|  total:2358637|           1|         9|     Scholastic Inc.|         29770|       2004|     eng|        J.K. Rowling|               4.5|    2:37005|  5:1493113|0439358078|   3:211781|       null|                 null|                1|\n",
      "|  3|Harry Potter and ...|   1:108202|        309|  4:1513191|  total:6587388|           1|        11|      Scholastic Inc|         75911|       2003|     eng|        J.K. Rowling|              4.47|   2:130310|  5:4268227|      null|   3:567458|       null|                 null|                2|\n",
      "|  4|Harry Potter and ...|    1:11896|        352|   4:706082|  total:2560657|           1|        11|          Scholastic|           244|       2003|     eng|        J.K. Rowling|              4.42|    2:49353|  5:1504505|0439554896|   3:288821|       null|                 null|                3|\n",
      "|  5|Harry Potter and ...|    1:10128|        435|   4:630534|  total:2610317|           1|         5|     Scholastic Inc.|         37093|       2004|     eng|        J.K. Rowling|              4.57|    2:24849|  5:1749958|043965548X|   3:194848|       null|                 null|                4|\n",
      "|  6|Harry Potter and ...|     1:9419|        734|   4:606800|  total:2431085|          28|         9|          Scholastic|         31978|       2002|     eng|        J.K. Rowling|4.5600000000000005|    2:24282|  5:1612165|      null|   3:178419|       null|                 null|                5|\n",
      "|  8|Harry Potter Boxe...|      1:402|       2690|     4:4650|    total:43968|          13|         9|          Scholastic|           166|       2004|     eng|        J.K. Rowling|              4.78|      2:283|    5:37432|0439682584|     3:1201|       null|                 null|                6|\n",
      "|  9|Unauthorized Harr...|        1:0|        152|        4:7|       total:28|          26|         4|        Nimble Books|             1|       2005|   en-US|W. Frederick Zimm...|              3.79|        2:5|       5:10|0976540606|        3:6|       null|                 null|                7|\n",
      "| 10|Harry Potter Coll...|      1:257|       3342|     4:4358|    total:30313|          12|         9|          Scholastic|           809|       2005|     eng|        J.K. Rowling|              4.73|      2:218|    5:24406|0439827604|     3:1074|       null|                 null|                8|\n",
      "| 12|The Ultimate Hitc...|     1:3443|        815|    4:75683|   total:274268|           1|        11|      Gramercy Books|           255|       2005|     eng|       Douglas Adams|              4.37|     2:7613|   5:157499|0517226952|    3:30030|       null|                 null|                9|\n",
      "| 13|The Ultimate Hitc...|     1:3443|        815|    4:75683|   total:274268|          30|         4|       Del Rey Books|          4119|       2002|     eng|       Douglas Adams|              4.37|     2:7613|   5:157499|0345453743|    3:30030|       null|                 null|               10|\n",
      "| 14|The Hitchhiker's ...|    1:28636|        215|   4:396332|  total:1350083|           3|         8|               Crown|           470|       2004|     eng|       Douglas Adams|              4.22|    2:54163|   5:682711|1400052920|   3:188241|       null|                 null|               11|\n",
      "| 18|The Ultimate Hitc...|     1:3443|        815|    4:75683|   total:274268|          17|         1|         Wings Books|           194|       1996|     eng|       Douglas Adams|              4.37|     2:7613|   5:157499|0517149257|    3:30030|       null|                 null|               12|\n",
      "| 21|A Short History o...|     1:5140|        544|    4:94040|   total:276166|          14|         9|      Broadway Books|          9545|       2004|     eng|         Bill Bryson|              4.21|     2:9367|   5:129555|076790818X|    3:38064|       null|                 null|               13|\n",
      "| 22|Bill Bryson's Afr...|      1:249|         55|     4:2409|     total:8393|           3|        12|      Broadway Books|           503|       2002|     eng|         Bill Bryson|              3.45|      2:985|     5:1408|0767915062|     3:3342|       null|                 null|               14|\n",
      "| 23|Bryson's Dictiona...|       1:36|        256|     4:1069|     total:2656|          14|         9|      Broadway Books|           131|       2004|     eng|         Bill Bryson|              3.88|      2:128|      5:729|0767910435|      3:694|       null|                 null|               15|\n",
      "| 24|In a Sunburned Co...|      1:987|        335|    4:34941|    total:85287|          15|         5|      Broadway Books|          4298|       2001|     eng|         Bill Bryson|              4.07|     2:2900|    5:30483|0767903862|    3:15976|       null|                 null|               16|\n",
      "| 25|I'm a Stranger He...|      1:741|        304|    4:22652|    total:56082|          28|         6|      Broadway Books|          2224|       2000|     eng|         Bill Bryson|               3.9|     2:2709|    5:15891|076790382X|    3:14089|       null|                 null|               17|\n",
      "| 26|The Lost Continen...|     1:1373|        299|    4:18427|    total:49012|          28|         8|William Morrow Pa...|          2276|       1990|     eng|         Bill Bryson|              3.83|     2:3219|    5:14013|0060920084|    3:11980|       null|                 null|               18|\n",
      "| 27|Neither Here nor ...|     1:1172|        254|    4:20655|    total:54388|          28|         3|William Morrow Pa...|          2264|       1993|     eng|         Bill Bryson|              3.86|     2:3305|    5:15888|0380713802|    3:13368|       null|                 null|               19|\n",
      "+---+--------------------+-----------+-----------+-----------+---------------+------------+----------+--------------------+--------------+-----------+--------+--------------------+------------------+-----------+-----------+----------+-----------+-----------+---------------------+-----------------+\n",
      "only showing top 20 rows\n",
      "\n"
     ]
    }
   ],
   "source": [
    "books.show()"
   ]
  },
  {
   "cell_type": "code",
   "execution_count": 45,
   "metadata": {},
   "outputs": [
    {
     "name": "stdout",
     "output_type": "stream",
     "text": [
      "+---------------+----------+----+-------+---------------+-----------+-----------+-----------+---------------+------------+----------+--------------------+--------------+-----------+--------+--------------+------+-----------+-----------+----------+-----------+--------------------+---------------------+-----------------+\n",
      "|           name|num_rating|  id|     id|           name|ratingdist1|pagesnumber|ratingdist4|ratingdisttotal|publishmonth|publishday|           publisher|countsofreview|publishyear|language|       authors|rating|ratingdist2|ratingdist5|      isbn|ratingdist3|         description|count of text reviews|__index_level_0__|\n",
      "+---------------+----------+----+-------+---------------+-----------+-----------+-----------+---------------+------------+----------+--------------------+--------------+-----------+--------+--------------+------+-----------+-----------+----------+-----------+--------------------+---------------------+-----------------+\n",
      "|Of Mice and Men|         3|2101|    890|Of Mice and Men|    1:54005|        103|   4:651494|  total:1857114|           8|         1|       Penguin Books|         25882|       2002|     eng|John Steinbeck|  3.87|   2:128601|   5:601885|0142000671|   3:421129|                null|                 null|              587|\n",
      "|Of Mice and Men|         3|2101| 429122|Of Mice and Men|    1:54212|        107|   4:655205|  total:1867762|           1|        10|       Penguin Books|            12|       1992|    null|John Steinbeck|  3.87|   2:129166|   5:605937|014017320X|   3:423242|                null|                 null|            16642|\n",
      "|Of Mice and Men|         3|2101|2014943|Of Mice and Men|    1:55168|         54|   4:672324|  total:1916683|           7|         1|    Hodder Education|             1|       2009|    null|John Steinbeck|  3.88|   2:131679|   5:624569|0340928654|   3:432943|This is a graphic...|                 null|             6336|\n",
      "|Of Mice and Men|         3|2101|1249780|Of Mice and Men|    1:54756|        112|   4:664802|  total:1895165|          26|         8|        Viking Books|             1|       1968|    null|John Steinbeck|  3.87|   2:130545|   5:616319|067052073X|   3:428743|The compelling st...|                  1.0|            21544|\n",
      "|Of Mice and Men|         3|2101| 810433|Of Mice and Men|    1:54586|        113|   4:661952|  total:1886720|          13|        12|Heinemann Educati...|            34|       1965|     eng|John Steinbeck|  3.87|   2:130108|   5:613078|0435120956|   3:426996|The compelling st...|                 34.0|             5605|\n",
      "|Of Mice and Men|         3|2101| 170455|Of Mice and Men|    1:54134|        106|   4:653824|  total:1863776|           7|         9|       Penguin Books|           207|       2000|     eng|John Steinbeck|  3.87|   2:128972|   5:604398|      null|   3:422448|                null|                 null|            40555|\n",
      "|Of Mice and Men|         3|2154|    890|Of Mice and Men|    1:54005|        103|   4:651494|  total:1857114|           8|         1|       Penguin Books|         25882|       2002|     eng|John Steinbeck|  3.87|   2:128601|   5:601885|0142000671|   3:421129|                null|                 null|              587|\n",
      "|Of Mice and Men|         3|2154| 429122|Of Mice and Men|    1:54212|        107|   4:655205|  total:1867762|           1|        10|       Penguin Books|            12|       1992|    null|John Steinbeck|  3.87|   2:129166|   5:605937|014017320X|   3:423242|                null|                 null|            16642|\n",
      "|Of Mice and Men|         3|2154|2014943|Of Mice and Men|    1:55168|         54|   4:672324|  total:1916683|           7|         1|    Hodder Education|             1|       2009|    null|John Steinbeck|  3.88|   2:131679|   5:624569|0340928654|   3:432943|This is a graphic...|                 null|             6336|\n",
      "|Of Mice and Men|         3|2154|1249780|Of Mice and Men|    1:54756|        112|   4:664802|  total:1895165|          26|         8|        Viking Books|             1|       1968|    null|John Steinbeck|  3.87|   2:130545|   5:616319|067052073X|   3:428743|The compelling st...|                  1.0|            21544|\n",
      "|Of Mice and Men|         3|2154| 810433|Of Mice and Men|    1:54586|        113|   4:661952|  total:1886720|          13|        12|Heinemann Educati...|            34|       1965|     eng|John Steinbeck|  3.87|   2:130108|   5:613078|0435120956|   3:426996|The compelling st...|                 34.0|             5605|\n",
      "|Of Mice and Men|         3|2154| 170455|Of Mice and Men|    1:54134|        106|   4:653824|  total:1863776|           7|         9|       Penguin Books|           207|       2000|     eng|John Steinbeck|  3.87|   2:128972|   5:604398|      null|   3:422448|                null|                 null|            40555|\n",
      "|Of Mice and Men|         3|2158|    890|Of Mice and Men|    1:54005|        103|   4:651494|  total:1857114|           8|         1|       Penguin Books|         25882|       2002|     eng|John Steinbeck|  3.87|   2:128601|   5:601885|0142000671|   3:421129|                null|                 null|              587|\n",
      "|Of Mice and Men|         3|2158| 429122|Of Mice and Men|    1:54212|        107|   4:655205|  total:1867762|           1|        10|       Penguin Books|            12|       1992|    null|John Steinbeck|  3.87|   2:129166|   5:605937|014017320X|   3:423242|                null|                 null|            16642|\n",
      "|Of Mice and Men|         3|2158|2014943|Of Mice and Men|    1:55168|         54|   4:672324|  total:1916683|           7|         1|    Hodder Education|             1|       2009|    null|John Steinbeck|  3.88|   2:131679|   5:624569|0340928654|   3:432943|This is a graphic...|                 null|             6336|\n",
      "|Of Mice and Men|         3|2158|1249780|Of Mice and Men|    1:54756|        112|   4:664802|  total:1895165|          26|         8|        Viking Books|             1|       1968|    null|John Steinbeck|  3.87|   2:130545|   5:616319|067052073X|   3:428743|The compelling st...|                  1.0|            21544|\n",
      "|Of Mice and Men|         3|2158| 810433|Of Mice and Men|    1:54586|        113|   4:661952|  total:1886720|          13|        12|Heinemann Educati...|            34|       1965|     eng|John Steinbeck|  3.87|   2:130108|   5:613078|0435120956|   3:426996|The compelling st...|                 34.0|             5605|\n",
      "|Of Mice and Men|         3|2158| 170455|Of Mice and Men|    1:54134|        106|   4:653824|  total:1863776|           7|         9|       Penguin Books|           207|       2000|     eng|John Steinbeck|  3.87|   2:128972|   5:604398|      null|   3:422448|                null|                 null|            40555|\n",
      "|Of Mice and Men|         4|2186|    890|Of Mice and Men|    1:54005|        103|   4:651494|  total:1857114|           8|         1|       Penguin Books|         25882|       2002|     eng|John Steinbeck|  3.87|   2:128601|   5:601885|0142000671|   3:421129|                null|                 null|              587|\n",
      "|Of Mice and Men|         4|2186| 429122|Of Mice and Men|    1:54212|        107|   4:655205|  total:1867762|           1|        10|       Penguin Books|            12|       1992|    null|John Steinbeck|  3.87|   2:129166|   5:605937|014017320X|   3:423242|                null|                 null|            16642|\n",
      "+---------------+----------+----+-------+---------------+-----------+-----------+-----------+---------------+------------+----------+--------------------+--------------+-----------+--------+--------------+------+-----------+-----------+----------+-----------+--------------------+---------------------+-----------------+\n",
      "only showing top 20 rows\n",
      "\n"
     ]
    }
   ],
   "source": [
    "joined = numratings.join(books, numratings.name == books.name, 'left')\n",
    "joined.show()"
   ]
  },
  {
   "cell_type": "code",
   "execution_count": null,
   "metadata": {},
   "outputs": [],
   "source": [
    "books.filter(books.name == 'Of Mice and Men').show()"
   ]
  },
  {
   "cell_type": "code",
   "execution_count": null,
   "metadata": {},
   "outputs": [],
   "source": [
    "ratings.filter(ratings.name == 'Of Mice and Men').show()"
   ]
  },
  {
   "attachments": {},
   "cell_type": "markdown",
   "metadata": {},
   "source": [
    "Топ-10 книг с наибольшим числом ревью:"
   ]
  },
  {
   "cell_type": "code",
   "execution_count": 50,
   "metadata": {},
   "outputs": [
    {
     "name": "stdout",
     "output_type": "stream",
     "text": [
      "+--------------------+-----+\n",
      "|                name|count|\n",
      "+--------------------+-----+\n",
      "|The Catcher in th...|  985|\n",
      "|    The Great Gatsby|  885|\n",
      "|The Da Vinci Code...|  846|\n",
      "|To Kill a Mocking...|  830|\n",
      "|                1984|  756|\n",
      "|     The Kite Runner|  749|\n",
      "|Harry Potter and ...|  728|\n",
      "|         Animal Farm|  717|\n",
      "|Harry Potter and ...|  639|\n",
      "|Harry Potter and ...|  631|\n",
      "+--------------------+-----+\n",
      "only showing top 10 rows\n",
      "\n"
     ]
    }
   ],
   "source": [
    "numratings.groupBy('name').count().sort(F.desc('count')).show(10)"
   ]
  },
  {
   "attachments": {},
   "cell_type": "markdown",
   "metadata": {},
   "source": [
    "Топ-10 издателей с наибольшим средним числом страниц в книгах:"
   ]
  },
  {
   "cell_type": "code",
   "execution_count": 55,
   "metadata": {},
   "outputs": [
    {
     "name": "stdout",
     "output_type": "stream",
     "text": [
      "+--------------------+------------------+\n",
      "|           publisher|  avg(pagesnumber)|\n",
      "+--------------------+------------------+\n",
      "|Crafty Secrets Pu...|         1807321.6|\n",
      "|    Sacred-texts.com|          500000.0|\n",
      "|Department of Rus...| 322128.5714285714|\n",
      "|Logos Research Sy...|          100000.0|\n",
      "|Encyclopedia Brit...|           32642.0|\n",
      "|Progressive Manag...|        19106.3625|\n",
      "|Still Waters Revi...|10080.142857142857|\n",
      "|P. Shalom Publica...|            8539.0|\n",
      "|Hendrickson Publi...|            6448.0|\n",
      "|            IEEE/EMB|            6000.0|\n",
      "+--------------------+------------------+\n",
      "only showing top 10 rows\n",
      "\n"
     ]
    }
   ],
   "source": [
    "books.groupBy('publisher').mean('pagesnumber').sort(F.desc('avg(pagesnumber)')).show(10)"
   ]
  },
  {
   "attachments": {},
   "cell_type": "markdown",
   "metadata": {},
   "source": [
    "Десять наиболее активных по числу изданных книг лет"
   ]
  },
  {
   "cell_type": "code",
   "execution_count": 57,
   "metadata": {},
   "outputs": [
    {
     "name": "stdout",
     "output_type": "stream",
     "text": [
      "+-----------+------+\n",
      "|publishyear| count|\n",
      "+-----------+------+\n",
      "|       2007|129507|\n",
      "|       2006|122374|\n",
      "|       2005|117639|\n",
      "|       2004|105733|\n",
      "|       2003|104345|\n",
      "|       2002| 95537|\n",
      "|       2001| 88228|\n",
      "|       2000| 87290|\n",
      "|       2008| 80265|\n",
      "|       1999| 80155|\n",
      "+-----------+------+\n",
      "only showing top 10 rows\n",
      "\n"
     ]
    }
   ],
   "source": [
    "books.groupBy('publishyear').count().sort(F.desc('count')).show(10)"
   ]
  },
  {
   "attachments": {},
   "cell_type": "markdown",
   "metadata": {},
   "source": [
    "Топ-10 книг имеющих наибольший разброс в оценках среди книг имеющих больше 500\n",
    "оценок"
   ]
  },
  {
   "cell_type": "code",
   "execution_count": 71,
   "metadata": {},
   "outputs": [
    {
     "name": "stdout",
     "output_type": "stream",
     "text": [
      "+--------------------+-------+----------+----------+--------+\n",
      "|                name|counted|min_rating|max_rating|deviance|\n",
      "+--------------------+-------+----------+----------+--------+\n",
      "|To Kill a Mocking...|    830|         0|         5|       5|\n",
      "|Me Talk Pretty On...|    535|         0|         5|       5|\n",
      "|The Da Vinci Code...|    846|         0|         5|       5|\n",
      "| Memoirs of a Geisha|    574|         0|         5|       5|\n",
      "|           Middlesex|    529|         0|         5|       5|\n",
      "|                1984|    756|         0|         5|       5|\n",
      "|    The Great Gatsby|    885|         0|         5|       5|\n",
      "|Harry Potter and ...|    728|         0|         5|       5|\n",
      "|Harry Potter and ...|    593|         0|         5|       5|\n",
      "|Harry Potter and ...|    503|         0|         5|       5|\n",
      "+--------------------+-------+----------+----------+--------+\n",
      "only showing top 10 rows\n",
      "\n"
     ]
    }
   ],
   "source": [
    "aggregated = numratings.groupBy('name').agg(F.count('name').alias('counted'), F.min('num_rating').alias('min_rating'), F.max('num_rating').alias('max_rating'))\n",
    "\n",
    "aggregated.filter(aggregated.counted > 500).withColumn(\"deviance\", aggregated.max_rating - aggregated.min_rating).sort(F.desc('deviance')).show(10)\n"
   ]
  },
  {
   "cell_type": "code",
   "execution_count": 82,
   "metadata": {},
   "outputs": [
    {
     "name": "stdout",
     "output_type": "stream",
     "text": [
      "[1, 8, 162, 199, 200, 202, 208, 299, 1192, 1376, 1384, 1385, 1387, 1623, 1730, 1753, 1824, 1825, 1833, 1835, 1836, 1837, 1838, 1839, 1841, 1846, 1847, 1850, 1851, 1852, 1854, 1856, 1859, 1862, 1863, 1864, 1865, 1866, 1868, 1869, 1871, 1874, 1878, 1879, 1880, 1881, 1884, 1885, 1886, 1888, 1889, 1892, 1893, 1894, 1895, 1896, 1897, 1898, 1899, 1900, 1901, 1902, 1903, 1904, 1905, 1906, 1907, 1908, 1909, 1910, 1911, 1912, 1913, 1914, 1915, 1916, 1917, 1918, 1919, 1920, 1921, 1922, 1923, 1924, 1925, 1926, 1927, 1928, 1929, 1930, 1931, 1932, 1933, 1934, 1935, 1936, 1937, 1938, 1939, 1940, 1941, 1942, 1943, 1944, 1945, 1946, 1947, 1948, 1949, 1950, 1951, 1952, 1953, 1954, 1955, 1956, 1957, 1958, 1959, 1960, 1961, 1962, 1963, 1964, 1965, 1966, 1967, 1968, 1969, 1970, 1971, 1972, 1973, 1974, 1975, 1976, 1977, 1978, 1979, 1980, 1981, 1982, 1983, 1984, 1985, 1986, 1987, 1988, 1989, 1990, 1991, 1992, 1993, 1994, 1995, 1996, 1997, 1998, 1999, 2000, 2001, 2002, 2003, 2004, 2005, 2006, 2007, 2008, 2009, 2010, 2011, 2012, 2013, 2014, 2015, 2016, 2017, 2018, 2019, 2020, 2021, 2022, 2030, 2035, 2099, 2100, 2103, 2202, 2994, 3002, 3006, 4989, 19769, 20015, 20016, 20040, 20067, 20099, 65535]\n"
     ]
    }
   ],
   "source": [
    "years = (books.select(\"publishyear\").distinct().toPandas().publishyear.to_numpy().tolist())\n",
    "years.sort()\n",
    "print (years)"
   ]
  },
  {
   "attachments": {},
   "cell_type": "markdown",
   "metadata": {},
   "source": [
    "1)В колонке года есть явные артефакты\n",
    "2)Издатели выпустившие наибольшее число книг за последние 10 лет:"
   ]
  },
  {
   "cell_type": "code",
   "execution_count": 83,
   "metadata": {},
   "outputs": [
    {
     "name": "stdout",
     "output_type": "stream",
     "text": [
      "+--------------------+-----+\n",
      "|           publisher|count|\n",
      "+--------------------+-----+\n",
      "|           Routledge|  425|\n",
      "|          de Gruyter|  350|\n",
      "|             Linkgua|  280|\n",
      "|       Samuel French|  248|\n",
      "|   Walter de Gruyter|  158|\n",
      "|Oxford University...|  156|\n",
      "|             Pearson|  144|\n",
      "|   Samuel French Ltd|  138|\n",
      "|  Dover Publications|  130|\n",
      "|           Passbooks|  124|\n",
      "+--------------------+-----+\n",
      "only showing top 10 rows\n",
      "\n"
     ]
    }
   ],
   "source": [
    "books.filter((books.publishyear > 2013) & (books.publishyear < 2023)).groupBy('publisher').count().sort(F.desc('count')).show(10)"
   ]
  }
 ],
 "metadata": {
  "kernelspec": {
   "display_name": "Python 3",
   "language": "python",
   "name": "python3"
  },
  "language_info": {
   "codemirror_mode": {
    "name": "ipython",
    "version": 3
   },
   "file_extension": ".py",
   "mimetype": "text/x-python",
   "name": "python",
   "nbconvert_exporter": "python",
   "pygments_lexer": "ipython3",
   "version": "3.8.10"
  },
  "orig_nbformat": 4
 },
 "nbformat": 4,
 "nbformat_minor": 2
}
